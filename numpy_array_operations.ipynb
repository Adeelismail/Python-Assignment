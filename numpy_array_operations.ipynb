{
 "cells": [
  {
   "cell_type": "code",
   "execution_count": 2,
   "id": "11781b2f-b9de-45f8-a49d-86bb6ab2703c",
   "metadata": {},
   "outputs": [
    {
     "name": "stdout",
     "output_type": "stream",
     "text": [
      "[11  5  2  3  1  2]\n",
      "int32\n",
      "(6,)\n",
      "1\n"
     ]
    }
   ],
   "source": [
    "import numpy as np\n",
    "     \n",
    "\n",
    "my_arr = np.arange(1000)\n",
    "my_list = np.arange(1000)\n",
    "     \n",
    "\n",
    "data1 = [11,5.5,2,3.7,1.3,2.0]\n",
    "\n",
    "array = np.array(data1,dtype = int)\n",
    "\n",
    "print(array)\n",
    "\n",
    "print(array.dtype)\n",
    "\n",
    "print(array.shape)\n",
    "\n",
    "print(array.ndim)"
   ]
  },
  {
   "cell_type": "code",
   "execution_count": 3,
   "id": "d89cd748-66e6-4f15-a663-983c6d9cc045",
   "metadata": {},
   "outputs": [
    {
     "name": "stdout",
     "output_type": "stream",
     "text": [
      "2\n",
      "(2, 6)\n"
     ]
    }
   ],
   "source": [
    "\n",
    "data2 = [[1,3,5,7,9,11],[2,4,6,8,10,12]] # both lists must have same number of elements\n",
    "array2 = np.array(data2, dtype = int)\n",
    "print(array2.ndim)\n",
    "print(array2.shape)\n",
    "\n"
   ]
  },
  {
   "cell_type": "code",
   "execution_count": 4,
   "id": "4d343d0b-957c-484e-91b3-36b800161a73",
   "metadata": {},
   "outputs": [
    {
     "data": {
      "text/plain": [
       "array([[ 1,  3,  5,  7,  9, 11],\n",
       "       [ 2,  4,  6,  8, 10, 12]])"
      ]
     },
     "execution_count": 4,
     "metadata": {},
     "output_type": "execute_result"
    }
   ],
   "source": [
    "array3 = np.array([[1,3,5,7,9,11],[2,4,6,8,10,12]])\n",
    "array3\n",
    "\n"
   ]
  },
  {
   "cell_type": "code",
   "execution_count": 5,
   "id": "29b4ffb4-5f28-4fcc-9c56-d7c3f2b88afe",
   "metadata": {},
   "outputs": [
    {
     "name": "stdout",
     "output_type": "stream",
     "text": [
      "[[0 0 0 0 0 0]\n",
      " [0 0 0 0 0 0]]\n"
     ]
    }
   ],
   "source": [
    "print(array3 - array3)"
   ]
  },
  {
   "cell_type": "code",
   "execution_count": 6,
   "id": "ad474143-0d98-4ce8-a641-a969bf796c2d",
   "metadata": {},
   "outputs": [
    {
     "name": "stdout",
     "output_type": "stream",
     "text": [
      "[[  1   9  25  49  81 121]\n",
      " [  4  16  36  64 100 144]]\n"
     ]
    }
   ],
   "source": [
    "print(array3 * array3)"
   ]
  },
  {
   "cell_type": "code",
   "execution_count": 7,
   "id": "430270b7-c17c-4b56-9473-cfe61e893f9a",
   "metadata": {},
   "outputs": [
    {
     "name": "stdout",
     "output_type": "stream",
     "text": [
      "[[False False  True  True  True  True]\n",
      " [False False  True  True  True  True]]\n"
     ]
    }
   ],
   "source": [
    "print(array3 > array)"
   ]
  },
  {
   "cell_type": "code",
   "execution_count": 8,
   "id": "012b802c-6614-4378-a896-ea4bbe653068",
   "metadata": {},
   "outputs": [
    {
     "name": "stdout",
     "output_type": "stream",
     "text": [
      "[[  1   9  25  49  81 121]\n",
      " [  4  16  36  64 100 144]]\n"
     ]
    }
   ],
   "source": [
    "print(array3 **2)"
   ]
  },
  {
   "cell_type": "code",
   "execution_count": 9,
   "id": "4c9aeb31-4485-4b2c-ae21-c3d7a52c63b5",
   "metadata": {},
   "outputs": [
    {
     "data": {
      "text/plain": [
       "array([ 0,  1,  2,  3,  4,  5,  6,  7,  8,  9, 10, 11, 12, 13, 14])"
      ]
     },
     "execution_count": 9,
     "metadata": {},
     "output_type": "execute_result"
    }
   ],
   "source": [
    "arr = np.arange(15)\n",
    "arr"
   ]
  },
  {
   "cell_type": "code",
   "execution_count": 10,
   "id": "716fc082-3a0b-481e-a5d9-47b89c7fbf80",
   "metadata": {},
   "outputs": [
    {
     "data": {
      "text/plain": [
       "4"
      ]
     },
     "execution_count": 10,
     "metadata": {},
     "output_type": "execute_result"
    }
   ],
   "source": [
    "arr[4]"
   ]
  },
  {
   "cell_type": "code",
   "execution_count": 11,
   "id": "8bb4ac1a-0f0a-44ff-8ce0-3471b1a57053",
   "metadata": {},
   "outputs": [
    {
     "data": {
      "text/plain": [
       "array([4, 5, 6, 7, 8, 9])"
      ]
     },
     "execution_count": 11,
     "metadata": {},
     "output_type": "execute_result"
    }
   ],
   "source": [
    "arr[4:10]"
   ]
  },
  {
   "cell_type": "code",
   "execution_count": 12,
   "id": "8b087327-6806-4794-b8da-08ab766a836d",
   "metadata": {},
   "outputs": [
    {
     "data": {
      "text/plain": [
       "array([ 0,  1,  2,  3,  4, 15, 15, 15, 15, 15, 15, 15, 12, 13, 14])"
      ]
     },
     "execution_count": 12,
     "metadata": {},
     "output_type": "execute_result"
    }
   ],
   "source": [
    "arr[5:12] = 15\n",
    "arr"
   ]
  },
  {
   "cell_type": "code",
   "execution_count": 13,
   "id": "9bc77a22-01d1-476c-b790-e4844f3a6055",
   "metadata": {},
   "outputs": [
    {
     "data": {
      "text/plain": [
       "array([ 5,  6,  7,  8,  9, 10, 11])"
      ]
     },
     "execution_count": 13,
     "metadata": {},
     "output_type": "execute_result"
    }
   ],
   "source": [
    "arr = np.arange(15)\n",
    "arr_slice = arr[5:12]\n",
    "arr_slice"
   ]
  },
  {
   "cell_type": "code",
   "execution_count": 14,
   "id": "550d6fa8-37b8-4f3b-9e01-d8f25d242bc9",
   "metadata": {},
   "outputs": [
    {
     "data": {
      "text/plain": [
       "array([   0,    1,    2,    3,    4,    5,    6,    7,    8,    9, 1629,\n",
       "         11,   12,   13,   14])"
      ]
     },
     "execution_count": 14,
     "metadata": {},
     "output_type": "execute_result"
    }
   ],
   "source": [
    "arr_slice[5] = 1629\n",
    "arr"
   ]
  },
  {
   "cell_type": "code",
   "execution_count": 15,
   "id": "e89acd8d-0309-4929-852d-e181be8d02ec",
   "metadata": {},
   "outputs": [
    {
     "data": {
      "text/plain": [
       "array([     1,      5,     12,     14,     72, 124000])"
      ]
     },
     "execution_count": 15,
     "metadata": {},
     "output_type": "execute_result"
    }
   ],
   "source": [
    "arr2d = np.array([[1,3,5,7,9,11],[2,4,6,8,10,12],[1,5,12,14,72,124000]])\n",
    "arr2d[2]     "
   ]
  },
  {
   "cell_type": "code",
   "execution_count": 16,
   "id": "f8f6c3ed-b186-4ae7-8c8b-559664164405",
   "metadata": {},
   "outputs": [
    {
     "data": {
      "text/plain": [
       "8"
      ]
     },
     "execution_count": 16,
     "metadata": {},
     "output_type": "execute_result"
    }
   ],
   "source": [
    "arr2d[1,3]"
   ]
  },
  {
   "cell_type": "code",
   "execution_count": 17,
   "id": "3c7f511e-dee5-4d15-b17e-45d1fb4be41b",
   "metadata": {},
   "outputs": [
    {
     "name": "stdout",
     "output_type": "stream",
     "text": [
      "11\n",
      "12\n",
      "124000\n"
     ]
    }
   ],
   "source": [
    "for i in range(len(arr2d)):\n",
    "    print(arr2d[i,5])     "
   ]
  },
  {
   "cell_type": "code",
   "execution_count": 18,
   "id": "ebae44f3-7325-4467-bca5-ac19d21f79d5",
   "metadata": {},
   "outputs": [
    {
     "name": "stdout",
     "output_type": "stream",
     "text": [
      "12\n",
      "10\n"
     ]
    }
   ],
   "source": [
    "for i in range(-1,-3,-1):\n",
    "    print(arr2d[1,i])     "
   ]
  },
  {
   "cell_type": "code",
   "execution_count": 19,
   "id": "a119712e-b035-4a17-a208-7450606909fb",
   "metadata": {},
   "outputs": [
    {
     "data": {
      "text/plain": [
       "array([1])"
      ]
     },
     "execution_count": 19,
     "metadata": {},
     "output_type": "execute_result"
    }
   ],
   "source": [
    "arr0 = np.array([1])\n",
    "arr0"
   ]
  },
  {
   "cell_type": "code",
   "execution_count": 20,
   "id": "18e087fb-ba0d-4204-83c6-913e3f5c6572",
   "metadata": {},
   "outputs": [
    {
     "data": {
      "text/plain": [
       "array([[0., 0., 0.],\n",
       "       [0., 0., 0.],\n",
       "       [0., 0., 0.]])"
      ]
     },
     "execution_count": 20,
     "metadata": {},
     "output_type": "execute_result"
    }
   ],
   "source": [
    "arr1 = np.zeros((3,3))\n",
    "arr1"
   ]
  },
  {
   "cell_type": "code",
   "execution_count": 21,
   "id": "e9b2d508-fe11-4321-9640-07a717c4ad4c",
   "metadata": {},
   "outputs": [
    {
     "data": {
      "text/plain": [
       "array([1, 2, 3, 4, 5])"
      ]
     },
     "execution_count": 21,
     "metadata": {},
     "output_type": "execute_result"
    }
   ],
   "source": [
    "arr2 = np.array([1,2,3,4,5])\n",
    "arr2"
   ]
  },
  {
   "cell_type": "code",
   "execution_count": 22,
   "id": "340ca061-afc6-4e40-a934-5b7d475cc69f",
   "metadata": {},
   "outputs": [
    {
     "data": {
      "text/plain": [
       "array([[1],\n",
       "       [2],\n",
       "       [3]])"
      ]
     },
     "execution_count": 22,
     "metadata": {},
     "output_type": "execute_result"
    }
   ],
   "source": [
    "arr3 = np.array([[1],[2],[3]])\n",
    "arr3"
   ]
  },
  {
   "cell_type": "code",
   "execution_count": 23,
   "id": "ec0e6900-eb14-4a86-b508-f957d468bb3a",
   "metadata": {},
   "outputs": [
    {
     "data": {
      "text/plain": [
       "array([[5, 0, 0],\n",
       "       [0, 5, 0],\n",
       "       [0, 0, 5]])"
      ]
     },
     "execution_count": 23,
     "metadata": {},
     "output_type": "execute_result"
    }
   ],
   "source": [
    "arr4 = np.array([[5,0,0],[0,5,0],[0,0,5]])\n",
    "arr4"
   ]
  },
  {
   "cell_type": "code",
   "execution_count": 24,
   "id": "1ab0ac4b-120f-41d9-9fe9-c203d726da52",
   "metadata": {},
   "outputs": [
    {
     "data": {
      "text/plain": [
       "array([[1., 0., 0., 0.],\n",
       "       [0., 1., 0., 0.],\n",
       "       [0., 0., 1., 0.],\n",
       "       [0., 0., 0., 1.]])"
      ]
     },
     "execution_count": 24,
     "metadata": {},
     "output_type": "execute_result"
    }
   ],
   "source": [
    "arr5 = np.eye(4)\n",
    "arr5"
   ]
  },
  {
   "cell_type": "code",
   "execution_count": 25,
   "id": "78782cc2-9c9c-4580-91a0-348d48859cc7",
   "metadata": {},
   "outputs": [
    {
     "data": {
      "text/plain": [
       "array([[8, 0, 0],\n",
       "       [0, 4, 0],\n",
       "       [0, 0, 9]])"
      ]
     },
     "execution_count": 25,
     "metadata": {},
     "output_type": "execute_result"
    }
   ],
   "source": [
    "arr6 = np.array([[8,0,0],[0,4,0],[0,0,9]])\n",
    "arr6"
   ]
  },
  {
   "cell_type": "code",
   "execution_count": 26,
   "id": "30b6c788-c37d-4a6b-9830-fd3e38b5db8b",
   "metadata": {},
   "outputs": [
    {
     "data": {
      "text/plain": [
       "array([[8, 0, 0],\n",
       "       [6, 4, 0],\n",
       "       [5, 7, 9]])"
      ]
     },
     "execution_count": 26,
     "metadata": {},
     "output_type": "execute_result"
    }
   ],
   "source": [
    "arr7 = np.array([[8,0,0],[6,4,0],[5,7,9]])\n",
    "arr7"
   ]
  },
  {
   "cell_type": "code",
   "execution_count": 27,
   "id": "843582d7-4a06-4cd3-b043-4e9440f4b5de",
   "metadata": {},
   "outputs": [
    {
     "data": {
      "text/plain": [
       "array([[8, 5, 6],\n",
       "       [0, 4, 7],\n",
       "       [0, 0, 9]])"
      ]
     },
     "execution_count": 27,
     "metadata": {},
     "output_type": "execute_result"
    }
   ],
   "source": [
    "arr8 = np.array([[8,5,6],[0,4,7],[0,0,9]])\n",
    "arr8"
   ]
  },
  {
   "cell_type": "code",
   "execution_count": 28,
   "id": "1eee20a8-2f47-46d0-bb13-cba90b1151b7",
   "metadata": {},
   "outputs": [
    {
     "data": {
      "text/plain": [
       "array([[1, 5],\n",
       "       [9, 8]])"
      ]
     },
     "execution_count": 28,
     "metadata": {},
     "output_type": "execute_result"
    }
   ],
   "source": [
    "arr9 = np.array([[1,5],[9,8]])\n",
    "arr9\n"
   ]
  },
  {
   "cell_type": "code",
   "execution_count": 29,
   "id": "3d35fdfb-d006-4521-88d7-ada1ed3a14fb",
   "metadata": {},
   "outputs": [
    {
     "data": {
      "text/plain": [
       "array([[ 3,  6,  9],\n",
       "       [ 6, 12, 18],\n",
       "       [ 2,  4,  6]])"
      ]
     },
     "execution_count": 29,
     "metadata": {},
     "output_type": "execute_result"
    }
   ],
   "source": [
    "arr10 = np.array([[3,6,9],[6,12,18],[2,4,6]])\n",
    "arr10"
   ]
  },
  {
   "cell_type": "code",
   "execution_count": 30,
   "id": "cd505110-e047-4c92-9730-c5b43d3e2a30",
   "metadata": {},
   "outputs": [
    {
     "data": {
      "text/plain": [
       "array([[2, 1],\n",
       "       [1, 2]])"
      ]
     },
     "execution_count": 30,
     "metadata": {},
     "output_type": "execute_result"
    }
   ],
   "source": [
    "arr11 = np.array([[2,1],[1,2]])\n",
    "arr11    "
   ]
  },
  {
   "cell_type": "code",
   "execution_count": 31,
   "id": "2aadd8d5-25c5-4ea1-a50b-82d6ea8bc98e",
   "metadata": {},
   "outputs": [
    {
     "data": {
      "text/plain": [
       "array([[1, 0],\n",
       "       [0, 0]])"
      ]
     },
     "execution_count": 31,
     "metadata": {},
     "output_type": "execute_result"
    }
   ],
   "source": [
    "arr12 = np.array([[1,0],[0,0]])\n",
    "arr12\n",
    "    "
   ]
  },
  {
   "cell_type": "code",
   "execution_count": 32,
   "id": "5c2fb8a1-2995-46f7-a041-0165f01d6028",
   "metadata": {},
   "outputs": [
    {
     "data": {
      "text/plain": [
       "array([[ 0,  3,  5],\n",
       "       [-3,  0, -2],\n",
       "       [-5,  2,  0]])"
      ]
     },
     "execution_count": 32,
     "metadata": {},
     "output_type": "execute_result"
    }
   ],
   "source": [
    "arr13 = np.array([[0,3,5],[-3,0,-2],[-5,2,0]])\n",
    "arr13\n",
    "     "
   ]
  },
  {
   "cell_type": "code",
   "execution_count": 33,
   "id": "aca4db26-072c-4cff-8fbd-b3f10918ab76",
   "metadata": {},
   "outputs": [
    {
     "name": "stdout",
     "output_type": "stream",
     "text": [
      "[3 6 9]\n"
     ]
    }
   ],
   "source": [
    "x = np.array([[1,2,3],[4,5,6],[7,8,9]])\n",
    "print(x[:,2])"
   ]
  },
  {
   "cell_type": "code",
   "execution_count": 34,
   "id": "74843093-a5d3-4661-9869-5ccf2e6d49ec",
   "metadata": {},
   "outputs": [
    {
     "name": "stdout",
     "output_type": "stream",
     "text": [
      "[5 6]\n"
     ]
    }
   ],
   "source": [
    "x = np.array([[1,2,3],[4,5,6],[7,8,9]])\n",
    "print(x[1,-2:])"
   ]
  },
  {
   "cell_type": "code",
   "execution_count": null,
   "id": "be9a424b-f99f-49cf-9ff1-dd50c41ee159",
   "metadata": {},
   "outputs": [],
   "source": []
  }
 ],
 "metadata": {
  "kernelspec": {
   "display_name": "Python 3 (ipykernel)",
   "language": "python",
   "name": "python3"
  },
  "language_info": {
   "codemirror_mode": {
    "name": "ipython",
    "version": 3
   },
   "file_extension": ".py",
   "mimetype": "text/x-python",
   "name": "python",
   "nbconvert_exporter": "python",
   "pygments_lexer": "ipython3",
   "version": "3.12.2"
  }
 },
 "nbformat": 4,
 "nbformat_minor": 5
}
